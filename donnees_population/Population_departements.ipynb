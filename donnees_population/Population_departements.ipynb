{
 "cells": [
  {
   "cell_type": "code",
   "execution_count": 2,
   "metadata": {},
   "outputs": [],
   "source": [
    "import pandas as pd"
   ]
  },
  {
   "cell_type": "markdown",
   "metadata": {},
   "source": [
    "# Population par département\n",
    "## Insee, Recensement de 2017\n",
    "\n",
    "Nous prenons la **population totale** (population municipale + population comptée à part)\n",
    "[https://www.insee.fr/fr/statistiques/4265429?sommaire=4265511](Source Insee 2017)"
   ]
  },
  {
   "cell_type": "code",
   "execution_count": 3,
   "metadata": {},
   "outputs": [
    {
     "data": {
      "text/html": [
       "<div>\n",
       "<style scoped>\n",
       "    .dataframe tbody tr th:only-of-type {\n",
       "        vertical-align: middle;\n",
       "    }\n",
       "\n",
       "    .dataframe tbody tr th {\n",
       "        vertical-align: top;\n",
       "    }\n",
       "\n",
       "    .dataframe thead th {\n",
       "        text-align: right;\n",
       "    }\n",
       "</style>\n",
       "<table border=\"1\" class=\"dataframe\">\n",
       "  <thead>\n",
       "    <tr style=\"text-align: right;\">\n",
       "      <th></th>\n",
       "      <th>Code région</th>\n",
       "      <th>Nom de la région</th>\n",
       "      <th>Code département</th>\n",
       "      <th>Nom du département</th>\n",
       "      <th>Nombre d'arrondissements</th>\n",
       "      <th>Nombre de cantons</th>\n",
       "      <th>Nombre de communes</th>\n",
       "      <th>Population municipale</th>\n",
       "      <th>Population totale</th>\n",
       "    </tr>\n",
       "  </thead>\n",
       "  <tbody>\n",
       "    <tr>\n",
       "      <th>0</th>\n",
       "      <td>84</td>\n",
       "      <td>Auvergne-Rhône-Alpes</td>\n",
       "      <td>01</td>\n",
       "      <td>Ain</td>\n",
       "      <td>4</td>\n",
       "      <td>23.0</td>\n",
       "      <td>393</td>\n",
       "      <td>643350</td>\n",
       "      <td>659180</td>\n",
       "    </tr>\n",
       "    <tr>\n",
       "      <th>1</th>\n",
       "      <td>32</td>\n",
       "      <td>Hauts-de-France</td>\n",
       "      <td>02</td>\n",
       "      <td>Aisne</td>\n",
       "      <td>5</td>\n",
       "      <td>21.0</td>\n",
       "      <td>800</td>\n",
       "      <td>534490</td>\n",
       "      <td>546527</td>\n",
       "    </tr>\n",
       "    <tr>\n",
       "      <th>2</th>\n",
       "      <td>84</td>\n",
       "      <td>Auvergne-Rhône-Alpes</td>\n",
       "      <td>03</td>\n",
       "      <td>Allier</td>\n",
       "      <td>3</td>\n",
       "      <td>19.0</td>\n",
       "      <td>317</td>\n",
       "      <td>337988</td>\n",
       "      <td>347035</td>\n",
       "    </tr>\n",
       "    <tr>\n",
       "      <th>3</th>\n",
       "      <td>93</td>\n",
       "      <td>Provence-Alpes-Côte d'Azur</td>\n",
       "      <td>04</td>\n",
       "      <td>Alpes-de-Haute-Provence</td>\n",
       "      <td>4</td>\n",
       "      <td>15.0</td>\n",
       "      <td>198</td>\n",
       "      <td>163915</td>\n",
       "      <td>168381</td>\n",
       "    </tr>\n",
       "    <tr>\n",
       "      <th>4</th>\n",
       "      <td>93</td>\n",
       "      <td>Provence-Alpes-Côte d'Azur</td>\n",
       "      <td>05</td>\n",
       "      <td>Hautes-Alpes</td>\n",
       "      <td>2</td>\n",
       "      <td>15.0</td>\n",
       "      <td>162</td>\n",
       "      <td>141284</td>\n",
       "      <td>145883</td>\n",
       "    </tr>\n",
       "  </tbody>\n",
       "</table>\n",
       "</div>"
      ],
      "text/plain": [
       "   Code région            Nom de la région Code département  \\\n",
       "0           84        Auvergne-Rhône-Alpes               01   \n",
       "1           32             Hauts-de-France               02   \n",
       "2           84        Auvergne-Rhône-Alpes               03   \n",
       "3           93  Provence-Alpes-Côte d'Azur               04   \n",
       "4           93  Provence-Alpes-Côte d'Azur               05   \n",
       "\n",
       "        Nom du département  Nombre d'arrondissements  Nombre de cantons  \\\n",
       "0                      Ain                         4               23.0   \n",
       "1                    Aisne                         5               21.0   \n",
       "2                   Allier                         3               19.0   \n",
       "3  Alpes-de-Haute-Provence                         4               15.0   \n",
       "4             Hautes-Alpes                         2               15.0   \n",
       "\n",
       "   Nombre de communes  Population municipale  Population totale  \n",
       "0                 393                 643350             659180  \n",
       "1                 800                 534490             546527  \n",
       "2                 317                 337988             347035  \n",
       "3                 198                 163915             168381  \n",
       "4                 162                 141284             145883  "
      ]
     },
     "execution_count": 3,
     "metadata": {},
     "output_type": "execute_result"
    }
   ],
   "source": [
    "pop_df = pd.read_excel('populations_insee2017.xls', sheet_name='Départements', header=7)\n",
    "pop_df.head()"
   ]
  },
  {
   "cell_type": "code",
   "execution_count": 4,
   "metadata": {},
   "outputs": [
    {
     "name": "stdout",
     "output_type": "stream",
     "text": [
      "0    659180\n",
      "Name: Population totale, dtype: int64\n"
     ]
    }
   ],
   "source": [
    "# Population totale de l'Ain\n",
    "print(pop_df[pop_df['Code département'] == '01']['Population totale'])"
   ]
  },
  {
   "cell_type": "code",
   "execution_count": null,
   "metadata": {},
   "outputs": [],
   "source": []
  }
 ],
 "metadata": {
  "kernelspec": {
   "display_name": "Python 3",
   "language": "python",
   "name": "python3"
  },
  "language_info": {
   "codemirror_mode": {
    "name": "ipython",
    "version": 3
   },
   "file_extension": ".py",
   "mimetype": "text/x-python",
   "name": "python",
   "nbconvert_exporter": "python",
   "pygments_lexer": "ipython3",
   "version": "3.8.2"
  }
 },
 "nbformat": 4,
 "nbformat_minor": 4
}
